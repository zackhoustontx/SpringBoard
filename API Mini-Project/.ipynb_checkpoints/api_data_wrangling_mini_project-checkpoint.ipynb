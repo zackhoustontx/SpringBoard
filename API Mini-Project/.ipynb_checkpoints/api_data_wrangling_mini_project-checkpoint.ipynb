{
 "cells": [
  {
   "cell_type": "markdown",
   "metadata": {},
   "source": [
    "This exercise will require you to pull some data from the Qunadl API. Qaundl is currently the most widely used aggregator of financial market data."
   ]
  },
  {
   "cell_type": "markdown",
   "metadata": {},
   "source": [
    "As a first step, you will need to register a free account on the http://www.quandl.com website."
   ]
  },
  {
   "cell_type": "markdown",
   "metadata": {},
   "source": [
    "After you register, you will be provided with a unique API key, that you should store:"
   ]
  },
  {
   "cell_type": "code",
   "execution_count": 2,
   "metadata": {},
   "outputs": [],
   "source": [
    "# Store the API key as a string - according to PEP8, constants are always named in all upper case\n",
    "API_KEY = '597cwsZ-C5D1rGiYfQFt'"
   ]
  },
  {
   "cell_type": "markdown",
   "metadata": {},
   "source": [
    "Qaundl has a large number of data sources, but, unfortunately, most of them require a Premium subscription. Still, there are also a good number of free datasets."
   ]
  },
  {
   "cell_type": "markdown",
   "metadata": {},
   "source": [
    "For this mini project, we will focus on equities data from the Frankfurt Stock Exhange (FSE), which is available for free. We'll try and analyze the stock prices of a company called Carl Zeiss Meditec, which manufactures tools for eye examinations, as well as medical lasers for laser eye surgery: https://www.zeiss.com/meditec/int/home.html. The company is listed under the stock ticker AFX_X."
   ]
  },
  {
   "cell_type": "markdown",
   "metadata": {},
   "source": [
    "You can find the detailed Quandl API instructions here: https://docs.quandl.com/docs/time-series"
   ]
  },
  {
   "cell_type": "markdown",
   "metadata": {},
   "source": [
    "While there is a dedicated Python package for connecting to the Quandl API, we would prefer that you use the *requests* package, which can be easily downloaded using *pip* or *conda*. You can find the documentation for the package here: http://docs.python-requests.org/en/master/ "
   ]
  },
  {
   "cell_type": "markdown",
   "metadata": {},
   "source": [
    "Finally, apart from the *requests* package, you are encouraged to not use any third party Python packages, such as *pandas*, and instead focus on what's available in the Python Standard Library (the *collections* module might come in handy: https://pymotw.com/3/collections/ ).\n",
    "Also, since you won't have access to DataFrames, you are encouraged to us Python's native data structures - preferably dictionaries, though some questions can also be answered using lists.\n",
    "You can read more on these data structures here: https://docs.python.org/3/tutorial/datastructures.html"
   ]
  },
  {
   "cell_type": "markdown",
   "metadata": {},
   "source": [
    "Keep in mind that the JSON responses you will be getting from the API map almost one-to-one to Python's dictionaries. Unfortunately, they can be very nested, so make sure you read up on indexing dictionaries in the documentation provided above."
   ]
  },
  {
   "cell_type": "code",
   "execution_count": 3,
   "metadata": {},
   "outputs": [],
   "source": [
    "# First, import the relevant modules\n",
    "import requests\n",
    "import json\n"
   ]
  },
  {
   "cell_type": "code",
   "execution_count": 31,
   "metadata": {
    "scrolled": false
   },
   "outputs": [
    {
     "name": "stdout",
     "output_type": "stream",
     "text": [
      "dataset_data\n",
      "limit: None\n",
      "transform: None\n",
      "column_index: None\n",
      "column_names: ['Date', 'Open', 'High', 'Low', 'Close', 'Change', 'Traded Volume', 'Turnover', 'Last Price of the Day', 'Daily Traded Units', 'Daily Turnover']\n",
      "start_date: 2019-09-30\n",
      "end_date: 2019-09-30\n",
      "frequency: daily\n",
      "data: [['2019-09-30', 104.2, 105.1, 102.7, 104.6, None, 92395.0, 9628660.0, None, None, None]]\n",
      "collapse: None\n",
      "order: None\n"
     ]
    }
   ],
   "source": [
    "# Now, call the Quandl API and pull out a small sample of the data (only one day) to get a glimpse\n",
    "# into the JSON structure that will be returned\n",
    "url = 'https://www.quandl.com/api/v3/datasets/FSE/AFX_X/data.json?start_date=2019-9-30&end_date=2019-9-30&api_key=597cwsZ-C5D1rGiYfQFt'\n",
    "r = requests.get(url)\n",
    "json_data = r.json()\n",
    "for key, value in json_data.items():\n",
    "    print(key)\n",
    "    for key1, value1 in value.items():\n",
    "        print(key1 +':', value1)\n",
    "#print(json_data['dataset_data']['column_names'])        \n",
    "#print(json_data['dataset_data']['data'])        \n"
   ]
  },
  {
   "cell_type": "code",
   "execution_count": 78,
   "metadata": {
    "scrolled": true
   },
   "outputs": [
    {
     "name": "stdout",
     "output_type": "stream",
     "text": [
      "column name:  ['Date', 'Open', 'High', 'Low', 'Close', 'Change', 'Traded Volume', 'Turnover', 'Last Price of the Day', 'Daily Traded Units', 'Daily Turnover']\n",
      "[['2017-12-29', 51.76, 51.94, 51.45, 51.76, None, 34640.0, 1792304.0, None, None, None], ['2017-12-28', 51.65, 51.82, 51.43, 51.6, None, 40660.0, 2099024.0, None, None, None], ['2017-12-27', 51.45, 51.89, 50.76, 51.82, None, 57452.0, 2957018.0, None, None, None], ['2017-12-22', 51.05, 51.5, 50.92, 51.32, None, 71165.0, 3641949.0, None, None, None], ['2017-12-21', 51.16, 51.52, 50.9, 51.4, None, 120649.0, 6179433.0, None, None, None]]\n"
     ]
    }
   ],
   "source": [
    "# Inspect the JSON structure of the object you created, and take note of how nested it is,\n",
    "# as well as the overall structure\n",
    "url = 'https://www.quandl.com/api/v3/datasets/FSE/AFX_X/data.json?start_date=2017-01-01&end_date=2017-12-31&api_key=597cwsZ-C5D1rGiYfQFt'\n",
    "r = requests.get(url)\n",
    "json_data = r.json()\n",
    "print('column name: ', json_data['dataset_data']['column_names']) \n",
    "data = json_data['dataset_data']['data']\n",
    "print(data[0:5])"
   ]
  },
  {
   "cell_type": "markdown",
   "metadata": {},
   "source": [
    "These are your tasks for this mini project:\n",
    "\n",
    "1. Collect data from the Franfurt Stock Exchange, for the ticker AFX_X, for the whole year 2017 (keep in mind that the date format is YYYY-MM-DD).\n",
    "2. Convert the returned JSON object into a Python dictionary.\n",
    "3. Calculate what the highest and lowest opening prices were for the stock in this period.\n",
    "4. What was the largest change in any one day (based on High and Low price)?\n",
    "5. What was the largest change between any two days (based on Closing Price)?\n",
    "6. What was the average daily trading volume during this year?\n",
    "7. (Optional) What was the median trading volume during this year. (Note: you may need to implement your own function for calculating the median.)"
   ]
  },
  {
   "cell_type": "code",
   "execution_count": 77,
   "metadata": {},
   "outputs": [
    {
     "name": "stdout",
     "output_type": "stream",
     "text": [
      "column name:  ['Date', 'Open', 'High', 'Low', 'Close', 'Change', 'Traded Volume', 'Turnover', 'Last Price of the Day', 'Daily Traded Units', 'Daily Turnover']\n",
      "highest opening prices: 53.11\n",
      "lowest opening prices: 34.0\n",
      " the largest change in any one day (based on High and Low price): 2.8100000000000023\n",
      "the largest change between any two days (based on Closing Price): 3.1499999999999986\n",
      "the average daily trading volume: 89124.33725490196\n",
      "the median trading volume: 76286.0\n"
     ]
    }
   ],
   "source": [
    "url = 'https://www.quandl.com/api/v3/datasets/FSE/AFX_X/data.json?start_date=2017-01-01&end_date=2017-12-31&api_key=597cwsZ-C5D1rGiYfQFt'\n",
    "r = requests.get(url)\n",
    "json_data = r.json()\n",
    "print('column name: ', json_data['dataset_data']['column_names']) \n",
    "data = json_data['dataset_data']['data']\n",
    "data_list = list(zip(*data))\n",
    "dates = data_list[0]\n",
    "#open= data_list[1]\n",
    "open= [x for x in data_list[1] if x != None]\n",
    "\n",
    "print('highest opening prices:',max(open))\n",
    "print('lowest opening prices:',min(open))\n",
    "\n",
    "samedaychange = [x-y for x, y in zip(data_list[2],data_list[3])]\n",
    "print(' the largest change in any one day (based on High and Low price):',max(samedaychange))\n",
    "close = data_list[4]\n",
    "delta = [close[n+2] - close[n] for n in range(len(close)-2)]\n",
    "delta_max = max(delta)\n",
    "delta_min = min(delta)\n",
    "if abs(delta_max) >= abs(delta_min):\n",
    "    maxtwodaychange = delta_max\n",
    "else:\n",
    "    maxtwodaychange = delta_min\n",
    "print('the largest change between any two days (based on Closing Price):',maxtwodaychange)\n",
    "vol = data_list[6]\n",
    "#print(vol)\n",
    "print('the average daily trading volume:',sum(vol)/len(vol))\n",
    "vol_sorted = sorted(vol)\n",
    "m = len(vol_sorted)\n",
    "if (m%2 == 0):\n",
    "    vol_median = (vol_sorted[m//2-1]+vol_sorted[m//2])/2\n",
    "else:\n",
    "    vol_median = vol_sorted[(m-1)//2]\n",
    "print('the median trading volume:', vol_median)"
   ]
  },
  {
   "cell_type": "code",
   "execution_count": null,
   "metadata": {},
   "outputs": [],
   "source": [
    "\n"
   ]
  },
  {
   "cell_type": "code",
   "execution_count": null,
   "metadata": {},
   "outputs": [],
   "source": []
  }
 ],
 "metadata": {
  "kernelspec": {
   "display_name": "Python 3",
   "language": "python",
   "name": "python3"
  },
  "language_info": {
   "codemirror_mode": {
    "name": "ipython",
    "version": 3
   },
   "file_extension": ".py",
   "mimetype": "text/x-python",
   "name": "python",
   "nbconvert_exporter": "python",
   "pygments_lexer": "ipython3",
   "version": "3.7.3"
  }
 },
 "nbformat": 4,
 "nbformat_minor": 2
}
